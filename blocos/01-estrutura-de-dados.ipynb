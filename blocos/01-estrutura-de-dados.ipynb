{
  "nbformat": 4,
  "nbformat_minor": 0,
  "metadata": {
    "colab": {
      "provenance": []
    },
    "kernelspec": {
      "name": "python3",
      "display_name": "Python 3"
    },
    "language_info": {
      "name": "python"
    }
  },
  "cells": [
    {
      "cell_type": "markdown",
      "source": [
        "# ❄️ Bloco 1: Estruturas Fundamentais do Pandas\n",
        "*Por Pinguim Mário e Pinguim Téo* 🐧\n",
        "\n",
        "**Fontes de estudo**:  \n",
        "📖 [Documentação Pandas](https://pandas.pydata.org/docs/)  \n",
        "🎥 [Curso Mário Filho](https://www.youtube.com/playlist?list=PLwnip85KhroV69lBeAoPsTnm1TlA5pSqe)  \n",
        "🏆 [Kaggle](https://www.kaggle.com/learn/pandas)"
      ],
      "metadata": {
        "id": "4m77DcHqX7T2"
      }
    },
    {
      "cell_type": "markdown",
      "source": [
        "## 🧊 1.1 Objetos Básicos\n",
        "Pandas é construído sobre o NumPy. Seus pilares são:\n",
        "\n",
        "| Estrutura | Dimensão | Analogia |\n",
        "|-----------|----------|----------|\n",
        "| **Series** | 1D | Uma coluna de dados |\n",
        "| **DataFrame** | 2D | Tabela com múltiplas colunas |\n",
        "\n",
        "> 💡 **Dica do Pinguim**: Series são como colunas do Excel, DataFrames são tabelas completas!"
      ],
      "metadata": {
        "id": "SGPxhoQkYCf6"
      }
    },
    {
      "cell_type": "markdown",
      "source": [
        "## 🐧 2.0 Criando Séries\n",
        "*Métodos demonstrados pelo Pinguim Kaggle*"
      ],
      "metadata": {
        "id": "qlp2SQK2ZEai"
      }
    },
    {
      "cell_type": "code",
      "source": [
        "import pandas as pd\n",
        "import numpy as np\n",
        "\n",
        "print(\"🐧 Bibliotecas carregadas com sucesso!\")"
      ],
      "metadata": {
        "id": "ui0qBfDdZnNm",
        "colab": {
          "base_uri": "https://localhost:8080/"
        },
        "outputId": "a6c5d7e1-0c3e-4f4e-9a3b-9b4c0c3e1a3d"
      },
      "execution_count": null,
      "outputs": [
        {
          "output_type": "stream",
          "name": "stdout",
          "text": [
            "🐧 Bibliotecas carregadas com sucesso!\n"
          ]
        }
      ]
    },
    {
      "cell_type": "markdown",
      "source": [
        "### Método 1: A partir do NumPy\n",
        "```python\n",
        "pd.Series(dados, index=índices, name=nome, dtype=tipo)\n",
        "```"
      ],
      "metadata": {
        "id": "p-zn9q76do8p"
      }
    },
    {
      "cell_type": "code",
      "source": [
        "# ❄️ Exemplo com valores aleatórios\n",
        "s1 = pd.Series(np.random.randn(5), \n",
        "               index=['A', 'B', 'C', 'D', 'E'],\n",
        "               name='Valores Aleatórios',\n",
        "               dtype='float64')\n",
        "\n",
        "s1"
      ],
      "metadata": {
        "id": "_NNQ4Fdvd5Yl",
        "colab": {
          "base_uri": "https://localhost:8080/"
        },
        "outputId": "3c8f1a4d-5f0e-4c9c-9c8e-1c1c1b1b1b1b"
      },
      "execution_count": null,
      "outputs": [
        {
          "output_type": "execute_result",
          "data": {
            "text/plain": [
              "A   -0.625034\n",
              "B    1.854252\n",
              "C   -1.482007\n",
              "D   -0.120048\n",
              "E   -1.359398\n",
              "Name: Valores Aleatórios, dtype: float64"
            ]
          },
          "metadata": {},
          "execution_count": 3
        }
      ]
    },
    {
      "cell_type": "markdown",
      "source": [
        "### Método 2: A partir de listas/dicionários\n",
        "```python\n",
        "# Lista\n",
        "pd.Series(['a', 'b', 'c'], index=['x', 'y', 'z'])\n",
        "\n",
        "# Dicionário\n",
        "pd.Series({'item1': 10, 'item2': 20})\n",
        "```"
      ],
      "metadata": {
        "id": "oOB-lEpZeujV"
      }
    },
    {
      "cell_type": "code",
      "source": [
        "# 🏦 Exemplo financeiro\n",
        "reservas = pd.Series(\n",
        "    data=['60 R$', '200 R$', '150 R$'],\n",
        "    index=['Livros', 'Cursos', 'Lazer'],\n",
        "    name='Orçamento Mensal'\n",
        ")\n",
        "\n",
        "reservas"
      ],
      "metadata": {
        "id": "1OkOOLUuXPIR",
        "colab": {
          "base_uri": "https://localhost:8080/"
        },
        "outputId": "d3d3d3d3-d3d3-d3d3-d3d3-d3d3d3d3d3d3"
      },
      "execution_count": null,
      "outputs": [
        {
          "output_type": "execute_result",
          "data": {
            "text/plain": [
              "Livros     60 R$\n",
              "Cursos    200 R$\n",
              "Lazer     150 R$\n",
              "Name: Orçamento Mensal, dtype: object"
            ]
          },
          "metadata": {},
          "execution_count": 4
        }
      ]
    },
    {
      "cell_type": "markdown",
      "source": [
        "## 🔍 3.0 Acessando Dados em Séries\n",
        "*Técnicas ensinadas pelo Pinguim Téo*"
      ],
      "metadata": {
        "id": "ByKrPFzkisfr"
      }
    },
    {
      "cell_type": "markdown",
      "source": [
        "### Métodos principais:\n",
        "- `loc[]`: Acesso por rótulo\n",
        "- `iloc[]`: Acesso por posição\n",
        "- `[]`: Notação simplificada"
      ],
      "metadata": {
        "id": "OI0CvdQpnl3l"
      }
    },
    {
      "cell_type": "code",
      "source": [
        "# 📦 Criando série de exemplo\n",
        "estoque = pd.Series(\n",
        "    [67, 89, 9],\n",
        "    index=['Produto A', 'Produto B', 'Produto C'],\n",
        "    name='Estoque'\n",
        ")\n",
        "\n",
        "# 🎯 Acessando dados\n",
        "print(\"🔹 Acesso por posição (iloc):\", estoque.iloc[0])\n",
        "print(\"🔹 Acesso por rótulo (loc):\", estoque.loc['Produto B'])\n",
        "print(\"🔹 Slicing:\", estoque[1:3].to_string())"
      ],
      "metadata": {
        "id": "OaS6KnpRgpnc",
        "colab": {
          "base_uri": "https://localhost:8080/"
        },
        "outputId": "e4e4e4e4-e4e4-e4e4-e4e4-e4e4e4e4e4e4"
      },
      "execution_count": null,
      "outputs": [
        {
          "output_type": "stream",
          "name": "stdout",
          "text": [
            "🔹 Acesso por posição (iloc): 67\n",
            "🔹 Acesso por rótulo (loc): 89\n",
            "🔹 Slicing: Produto B    89\n",
            "Produto C     9\n"
          ]
        }
      ]
    },
    {
      "cell_type": "markdown",
      "source": [
        "## 📊 4.0 Operações com Séries\n",
        "*Demonstração do Pinguim Mário*"
      ],
      "metadata": {
        "id": "8kjz5PewblCi"
      }
    },
    {
      "cell_type": "code",
      "source": [
        "# 📈 Filtros e operações\n",
        "print(\"🔸 Média do estoque:\", estoque.mean())\n",
        "print(\"🔸 Itens acima da média:\\n\", estoque[estoque > estoque.mean()].to_markdown())"
      ],
      "metadata": {
        "id": "V3bTyI1Bg0UC",
        "colab": {
          "base_uri": "https://localhost:8080/"
        },
        "outputId": "f5f5f5f5-f5f5-f5f5-f5f5-f5f5f5f5f5f5"
      },
      "execution_count": null,
      "outputs": [
        {
          "output_type": "stream",
          "name": "stdout",
          "text": [
            "🔸 Média do estoque: 55.0\n",
            "🔸 Itens acima da média:\n",
            "|           |   Estoque |\n",
            "|:----------|----------:|\n",
            "| Produto A |        67 |\n",
            "| Produto B |        89 |\n"
          ]
        }
      ]
    },
    {
      "cell_type": "markdown",
      "source": [
        "## 📌 Checklist de Aprendizado\n",
        "- [x] Criar Series a partir de diferentes fontes  \n",
        "- [x] Acessar dados com loc/iloc  \n",
        "- [ ] Próximo bloco: DataFrames (➡️)"
      ],
      "metadata": {
        "id": "tqb4BUhibkKb"
      }
    }
  ]
}
